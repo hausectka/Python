{
 "cells": [
  {
   "cell_type": "code",
   "execution_count": 50,
   "id": "607711fc-75b5-4b81-9676-df6c8939dd16",
   "metadata": {},
   "outputs": [],
   "source": [
    "def decode(integer):\n",
    "    binary = bin(integer)[2:]\n",
    "    decoded = ''\n",
    "    num = []\n",
    "    value = []\n",
    "    if integer < 0:\n",
    "        return None\n",
    "    i = 0\n",
    "    no = 'no'\n",
    "    while True:\n",
    "        for i in range(len(binary)):\n",
    "            if i < len(binary) - 1:\n",
    "                if binary[i] == 1 and binary[i+1] == 1: #11 or 00\n",
    "                    num = num.append(binary[i]) \n",
    "                    i+= 2 #2 steps next, i+2 check\n",
    "                elif binary[i] == 0 and binary[i+1] == 0: #11 or 00\n",
    "                    num = num.append(binary[i]) \n",
    "                    i+= 2\n",
    "                elif binary[i] == 0 and binary[i+1] ==1: #01: seperation zero\n",
    "                    val = str(''.join(num)) #don't append that 0, move on to the next num\n",
    "                    decoded += val\n",
    "                    value.append(decoded)\n",
    "                    decoded = ''\n",
    "                    num = []\n",
    "                    val = ''\n",
    "                    i +=1\n",
    "                else:\n",
    "                    return no\n",
    "            else:\n",
    "                val = ''.join(num)\n",
    "                value = value.append(val)\n",
    "                for i in value:\n",
    "                    i = bin(i)[2:]\n",
    "                return value"
   ]
  },
  {
   "cell_type": "code",
   "execution_count": 51,
   "id": "d6148f73-4efa-48a8-9832-b33003fa8dba",
   "metadata": {},
   "outputs": [
    {
     "data": {
      "text/plain": [
       "'no'"
      ]
     },
     "execution_count": 51,
     "metadata": {},
     "output_type": "execute_result"
    }
   ],
   "source": [
    "decode(424896)"
   ]
  },
  {
   "cell_type": "code",
   "execution_count": 53,
   "id": "7fff7f1b-2bc7-40a1-91a3-575ffa18af45",
   "metadata": {},
   "outputs": [
    {
     "data": {
      "text/plain": [
       "'1100111110000011010'"
      ]
     },
     "execution_count": 53,
     "metadata": {},
     "output_type": "execute_result"
    }
   ],
   "source": [
    "bin(424986)[2:]"
   ]
  },
  {
   "cell_type": "code",
   "execution_count": 10,
   "id": "1b54b83d-e1b3-426e-9d3a-a1aa07d9b6b1",
   "metadata": {},
   "outputs": [
    {
     "data": {
      "text/plain": [
       "['ddd']"
      ]
     },
     "execution_count": 10,
     "metadata": {},
     "output_type": "execute_result"
    }
   ],
   "source": [
    "L"
   ]
  },
  {
   "cell_type": "code",
   "execution_count": 12,
   "id": "f072bf10-9e3c-449f-8c12-ed3aa06f6082",
   "metadata": {},
   "outputs": [
    {
     "data": {
      "text/plain": [
       "['1', '1']"
      ]
     },
     "execution_count": 12,
     "metadata": {},
     "output_type": "execute_result"
    }
   ],
   "source": [
    "binary = bin(424896)[2:]\n",
    "num = []\n",
    "for i in range(2):\n",
    "    num.append(binary[i])\n",
    "num"
   ]
  },
  {
   "cell_type": "code",
   "execution_count": 13,
   "id": "f23ce07c-3fc6-4a7d-97bb-d1661ee92a27",
   "metadata": {},
   "outputs": [
    {
     "data": {
      "text/plain": [
       "'1100111101111000000'"
      ]
     },
     "execution_count": 13,
     "metadata": {},
     "output_type": "execute_result"
    }
   ],
   "source": [
    "binary"
   ]
  },
  {
   "cell_type": "code",
   "execution_count": 15,
   "id": "0374ac1c-c0b6-422b-8f39-c31bfd9be4b7",
   "metadata": {},
   "outputs": [
    {
     "data": {
      "text/plain": [
       "'11'"
      ]
     },
     "execution_count": 15,
     "metadata": {},
     "output_type": "execute_result"
    }
   ],
   "source": [
    "val = ''.join(num)\n",
    "val"
   ]
  },
  {
   "cell_type": "code",
   "execution_count": 16,
   "id": "90325936-c9ab-4784-8a3a-270de592ef73",
   "metadata": {},
   "outputs": [],
   "source": [
    "d = ''\n",
    "d += val"
   ]
  },
  {
   "cell_type": "code",
   "execution_count": 17,
   "id": "64b99575-9a0b-4c62-b2cd-a190d2b889fd",
   "metadata": {},
   "outputs": [
    {
     "data": {
      "text/plain": [
       "'11'"
      ]
     },
     "execution_count": 17,
     "metadata": {},
     "output_type": "execute_result"
    }
   ],
   "source": [
    "d"
   ]
  },
  {
   "cell_type": "code",
   "execution_count": 18,
   "id": "d75c29fa-cc2d-48b7-bebb-d5576e914914",
   "metadata": {},
   "outputs": [],
   "source": [
    "value = []\n",
    "value.append(d)"
   ]
  },
  {
   "cell_type": "code",
   "execution_count": 19,
   "id": "d9c53bed-8b72-495a-ac7f-e09fe4a0f4f3",
   "metadata": {},
   "outputs": [
    {
     "data": {
      "text/plain": [
       "['11']"
      ]
     },
     "execution_count": 19,
     "metadata": {},
     "output_type": "execute_result"
    }
   ],
   "source": [
    "value"
   ]
  },
  {
   "cell_type": "code",
   "execution_count": 20,
   "id": "01e7c07c-2006-46bb-9b15-5a5224b2c520",
   "metadata": {},
   "outputs": [
    {
     "data": {
      "text/plain": [
       "3"
      ]
     },
     "execution_count": 20,
     "metadata": {},
     "output_type": "execute_result"
    }
   ],
   "source": [
    "int(''.join(value), 2)"
   ]
  },
  {
   "cell_type": "code",
   "execution_count": null,
   "id": "833f06e2-b083-4a3b-aec5-19603400644a",
   "metadata": {},
   "outputs": [],
   "source": []
  }
 ],
 "metadata": {
  "kernelspec": {
   "display_name": "Python 3 (ipykernel)",
   "language": "python",
   "name": "python3"
  },
  "language_info": {
   "codemirror_mode": {
    "name": "ipython",
    "version": 3
   },
   "file_extension": ".py",
   "mimetype": "text/x-python",
   "name": "python",
   "nbconvert_exporter": "python",
   "pygments_lexer": "ipython3",
   "version": "3.9.12"
  }
 },
 "nbformat": 4,
 "nbformat_minor": 5
}
